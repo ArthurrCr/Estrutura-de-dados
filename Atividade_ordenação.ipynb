{
  "cells": [
    {
      "cell_type": "markdown",
      "metadata": {
        "id": "1BCXXH-IMvCE"
      },
      "source": [
        "### SelectionSort"
      ]
    },
    {
      "cell_type": "code",
      "execution_count": 1,
      "metadata": {
        "id": "O077yi6KNVhv"
      },
      "outputs": [],
      "source": [
        "import time\n",
        "import numpy as np\n",
        "import multiprocessing\n",
        "from tqdm import tqdm"
      ]
    },
    {
      "cell_type": "code",
      "execution_count": null,
      "metadata": {
        "colab": {
          "base_uri": "https://localhost:8080/"
        },
        "id": "WEKCRU5qMJOK",
        "outputId": "0c285f3c-80aa-42e2-f4f1-8b5f9a5e07c9"
      },
      "outputs": [
        {
          "name": "stderr",
          "output_type": "stream",
          "text": [
            "Ordenando: 100%|██████████| 17/17 [00:00<00:00, 105948.24it/s]"
          ]
        },
        {
          "name": "stdout",
          "output_type": "stream",
          "text": [
            "\n",
            "Lista ordenada: [  11   12   15   18   22   25   27   58   64  123  123  127  235  346\n",
            "  450  546 3489]\n",
            "Tempo de execução: 0.01831507682800293 segundos\n"
          ]
        },
        {
          "name": "stderr",
          "output_type": "stream",
          "text": [
            "\n"
          ]
        }
      ],
      "source": [
        "# Obter o tempo de início\n",
        "start_time = time.time()\n",
        "\n",
        "def selection_sort(lista):\n",
        "    tamanho = lista.size\n",
        "    \n",
        "    for i in tqdm(range(tamanho), desc=\"Ordenando\"):\n",
        "        indice_min = i\n",
        "        for j in range(i+1, tamanho):\n",
        "            if lista[j] < lista[indice_min]:\n",
        "                indice_min = j\n",
        "        \n",
        "        lista[i], lista[indice_min] = lista[indice_min], lista[i]\n",
        "    \n",
        "    return lista\n",
        "\n",
        "# Exemplo de uso\n",
        "lista = [64, 25, 12, 22, 11, 27, 58, 18, 450, 127, 3489, 123, 15, 346, 123, 546, 235]\n",
        "array_numpy = np.array(lista)\n",
        "lista_ordenada = selection_sort(array_numpy)\n",
        "print(\"\\nLista ordenada:\", lista_ordenada)\n",
        "\n",
        "# Obter o tempo de término\n",
        "end_time = time.time()\n",
        "\n",
        "# Calcular o tempo de execução em segundos\n",
        "execution_time = end_time - start_time\n",
        "\n",
        "# Imprimir o tempo de execução\n",
        "print(\"Tempo de execução:\", execution_time, \"segundos\")"
      ]
    },
    {
      "cell_type": "markdown",
      "metadata": {
        "id": "NX5ZWihqNoMV"
      },
      "source": [
        "### BubbleSort"
      ]
    },
    {
      "cell_type": "code",
      "execution_count": 2,
      "metadata": {
        "colab": {
          "base_uri": "https://localhost:8080/"
        },
        "id": "1fNcJM_jNJHX",
        "outputId": "06d0f4f5-19c1-414a-c8a0-4bc63ab4b98c"
      },
      "outputs": [
        {
          "output_type": "stream",
          "name": "stderr",
          "text": [
            "Ordenando: 100%|██████████| 16/16 [00:00<00:00, 42554.76it/s]"
          ]
        },
        {
          "output_type": "stream",
          "name": "stdout",
          "text": [
            "\n",
            "Lista ordenada: [  11   12   15   18   22   25   27   58   64  123  123  127  235  346\n",
            "  450  546 3489]\n",
            "Tempo de execução: 0.02693796157836914 segundos\n"
          ]
        },
        {
          "output_type": "stream",
          "name": "stderr",
          "text": [
            "\n"
          ]
        }
      ],
      "source": [
        "# Obter o tempo de início\n",
        "start_time = time.time()\n",
        "\n",
        "def bubble_sort(lista):\n",
        "    tamanho = lista.size\n",
        "    \n",
        "    for i in tqdm(range(tamanho - 1), desc=\"Ordenando\"):\n",
        "        for j in range(tamanho - i - 1):\n",
        "            if lista[j] > lista[j + 1]:\n",
        "                lista[j], lista[j + 1] = lista[j + 1], lista[j]\n",
        "    \n",
        "    return lista\n",
        "\n",
        "# Exemplo de uso\n",
        "lista = [64, 25, 12, 22, 11, 27, 58, 18, 450, 127, 3489, 123, 15, 346, 123, 546, 235]\n",
        "array_numpy = np.array(lista)\n",
        "lista_ordenada = bubble_sort(array_numpy)\n",
        "print(\"\\nLista ordenada:\", lista_ordenada)\n",
        "\n",
        "# Obter o tempo de término\n",
        "end_time = time.time()\n",
        "\n",
        "# Calcular o tempo de execução em segundos\n",
        "execution_time = end_time - start_time\n",
        "\n",
        "# Imprimir o tempo de execução\n",
        "print(\"Tempo de execução:\", execution_time, \"segundos\")"
      ]
    },
    {
      "cell_type": "markdown",
      "metadata": {
        "id": "WBOJW1BBOOd_"
      },
      "source": [
        "### InsertionSort\n"
      ]
    },
    {
      "cell_type": "code",
      "execution_count": null,
      "metadata": {
        "colab": {
          "base_uri": "https://localhost:8080/"
        },
        "id": "pm77irlxOPY8",
        "outputId": "bf6fd343-ed79-45f0-b014-e5991730ef5e"
      },
      "outputs": [
        {
          "name": "stderr",
          "output_type": "stream",
          "text": [
            "Ordenando: 100%|██████████| 16/16 [00:00<00:00, 157903.21it/s]"
          ]
        },
        {
          "name": "stdout",
          "output_type": "stream",
          "text": [
            "\n",
            "Lista ordenada: [  11   12   15   18   22   25   27   58   64  123  123  127  235  346\n",
            "  450  546 3489]\n",
            "Tempo de execução: 0.0030295848846435547 segundos\n"
          ]
        },
        {
          "name": "stderr",
          "output_type": "stream",
          "text": [
            "\n"
          ]
        }
      ],
      "source": [
        "# Obter o tempo de início\n",
        "start_time = time.time()\n",
        "\n",
        "def insertion_sort(lista):\n",
        "    tamanho = lista.size\n",
        "    \n",
        "    for i in tqdm(range(1, tamanho), desc=\"Ordenando\"):\n",
        "        chave = lista[i]\n",
        "        j = i - 1\n",
        "        \n",
        "        while j >= 0 and lista[j] > chave:\n",
        "            lista[j + 1] = lista[j]\n",
        "            j -= 1\n",
        "        \n",
        "        lista[j + 1] = chave\n",
        "    \n",
        "    return lista\n",
        "\n",
        "# Exemplo de uso\n",
        "lista = [64, 25, 12, 22, 11, 27, 58, 18, 450, 127, 3489, 123, 15, 346, 123, 546, 235]\n",
        "array_numpy = np.array(lista)\n",
        "lista_ordenada = insertion_sort(array_numpy)\n",
        "print(\"\\nLista ordenada:\", lista_ordenada)\n",
        "\n",
        "# Obter o tempo de término\n",
        "end_time = time.time()\n",
        "\n",
        "# Calcular o tempo de execução em segundos\n",
        "execution_time = end_time - start_time\n",
        "\n",
        "# Imprimir o tempo de execução\n",
        "print(\"Tempo de execução:\", execution_time, \"segundos\")"
      ]
    },
    {
      "cell_type": "markdown",
      "metadata": {
        "id": "afQJZkjWOc72"
      },
      "source": [
        "### MergeSort\n"
      ]
    },
    {
      "cell_type": "code",
      "execution_count": null,
      "metadata": {
        "colab": {
          "base_uri": "https://localhost:8080/"
        },
        "id": "pgRmcreNOeJI",
        "outputId": "60421330-aa7d-4fa7-e4f6-b45ae6d89604"
      },
      "outputs": [
        {
          "name": "stdout",
          "output_type": "stream",
          "text": [
            "\n",
            "Lista ordenada: [  11   12   15   18   22   25   27   58   64  123  123  127  235  346\n",
            "  450  546 3489]\n",
            "Tempo de execução: 0.001786947250366211 segundos\n"
          ]
        }
      ],
      "source": [
        "# Obter o tempo de início\n",
        "start_time = time.time()\n",
        "\n",
        "def merge_sort(lista):\n",
        "    if len(lista) <= 1:\n",
        "        return lista\n",
        "    \n",
        "    # Divide a lista ao meio\n",
        "    meio = len(lista) // 2\n",
        "    esquerda = lista[:meio]\n",
        "    direita = lista[meio:]\n",
        "    \n",
        "    # Recursivamente ordena as sublistas\n",
        "    esquerda = merge_sort(esquerda)\n",
        "    direita = merge_sort(direita)\n",
        "    \n",
        "    # Combina as sublistas ordenadas\n",
        "    return merge(esquerda, direita)\n",
        "\n",
        "def merge(esquerda, direita):\n",
        "    lista_ordenada = np.array([], dtype=esquerda.dtype)\n",
        "    i = 0\n",
        "    j = 0\n",
        "    \n",
        "    # Combina as sublistas em uma lista ordenada\n",
        "    for _ in range(len(esquerda) + len(direita)):\n",
        "        if i < len(esquerda) and j < len(direita):\n",
        "            if esquerda[i] < direita[j]:\n",
        "                lista_ordenada = np.append(lista_ordenada, esquerda[i])\n",
        "                i += 1\n",
        "            else:\n",
        "                lista_ordenada = np.append(lista_ordenada, direita[j])\n",
        "                j += 1\n",
        "        elif i < len(esquerda):\n",
        "            lista_ordenada = np.append(lista_ordenada, esquerda[i])\n",
        "            i += 1\n",
        "        else:\n",
        "            lista_ordenada = np.append(lista_ordenada, direita[j])\n",
        "            j += 1\n",
        "    \n",
        "    return lista_ordenada\n",
        "\n",
        "# Exemplo de uso\n",
        "lista = [64, 25, 12, 22, 11, 27, 58, 18, 450, 127, 3489, 123, 15, 346, 123, 546, 235]\n",
        "array_numpy = np.array(lista)\n",
        "lista_ordenada = merge_sort(array_numpy)\n",
        "print(\"\\nLista ordenada:\", lista_ordenada)\n",
        "\n",
        "# Obter o tempo de término\n",
        "end_time = time.time()\n",
        "\n",
        "# Calcular o tempo de execução em segundos\n",
        "execution_time = end_time - start_time\n",
        "\n",
        "# Imprimir o tempo de execução\n",
        "print(\"Tempo de execução:\", execution_time, \"segundos\")"
      ]
    },
    {
      "cell_type": "markdown",
      "metadata": {
        "id": "pcVxHbGxOwww"
      },
      "source": [
        "### QuickSort"
      ]
    },
    {
      "cell_type": "code",
      "execution_count": null,
      "metadata": {
        "colab": {
          "base_uri": "https://localhost:8080/"
        },
        "id": "fiBPpugtOyw7",
        "outputId": "a667954d-d6f4-43e7-b725-61063fe990d5"
      },
      "outputs": [
        {
          "name": "stdout",
          "output_type": "stream",
          "text": [
            "\n",
            "Lista ordenada: [  11   12   15   18   22   25   27   58   64  123  123  127  235  346\n",
            "  450  546 3489]\n",
            "Tempo de execução: 0.002172231674194336 segundos\n"
          ]
        }
      ],
      "source": [
        "# Obter o tempo de início\n",
        "start_time = time.time()\n",
        "\n",
        "def quick_sort(lista):\n",
        "    if len(lista) <= 1:\n",
        "        return lista\n",
        "    \n",
        "    # Seleciona um elemento como pivô\n",
        "    pivô = lista[len(lista) // 2]\n",
        "    \n",
        "    # Divide a lista em sublistas menores: elementos menores que o pivô e elementos maiores que o pivô\n",
        "    menores = np.array([elemento for elemento in lista if elemento < pivô], dtype=lista.dtype)\n",
        "    iguais = np.array([elemento for elemento in lista if elemento == pivô], dtype=lista.dtype)\n",
        "    maiores = np.array([elemento for elemento in lista if elemento > pivô], dtype=lista.dtype)\n",
        "    \n",
        "    # Recursivamente ordena as sublistas menores e maiores\n",
        "    menores_ordenados = quick_sort(menores)\n",
        "    maiores_ordenados = quick_sort(maiores)\n",
        "    \n",
        "    return np.concatenate((menores_ordenados, iguais, maiores_ordenados))\n",
        "\n",
        "# Exemplo de uso\n",
        "lista = [64, 25, 12, 22, 11, 27, 58, 18, 450, 127, 3489, 123, 15, 346, 123, 546, 235]\n",
        "array_numpy = np.array(lista)\n",
        "lista_ordenada = quick_sort(array_numpy)\n",
        "print(\"\\nLista ordenada:\", lista_ordenada)\n",
        "\n",
        "# Obter o tempo de término\n",
        "end_time = time.time()\n",
        "\n",
        "# Calcular o tempo de execução em segundos\n",
        "execution_time = end_time - start_time\n",
        "\n",
        "# Imprimir o tempo de execução\n",
        "print(\"Tempo de execução:\", execution_time, \"segundos\")"
      ]
    },
    {
      "cell_type": "markdown",
      "metadata": {
        "id": "UWL9uVmkQ9pE"
      },
      "source": [
        "### Instancias de teste"
      ]
    },
    {
      "cell_type": "code",
      "execution_count": 5,
      "metadata": {
        "id": "OM-OLGpsSZdp"
      },
      "outputs": [],
      "source": [
        "def ler_numeros_arquivo(nome_arquivo):\n",
        "    numeros = []\n",
        "    with open(nome_arquivo, 'r') as arquivo:\n",
        "        for linha in arquivo:\n",
        "            numero = int(linha.strip())\n",
        "            numeros.append(numero)\n",
        "    return np.array(numeros)"
      ]
    },
    {
      "cell_type": "markdown",
      "metadata": {
        "id": "3AugmMY_S_zs"
      },
      "source": [
        "### Listas"
      ]
    },
    {
      "cell_type": "code",
      "execution_count": 6,
      "metadata": {
        "id": "H3HajwbiWVGI"
      },
      "outputs": [],
      "source": [
        "arquivos = [\n",
        "    '/content/num.1000.1.in',\n",
        "    '/content/num.1000.2.in',\n",
        "    '/content/num.1000.3.in',\n",
        "    '/content/num.1000.4.in',\n",
        "    '/content/num.10000.1.in',\n",
        "    '/content/num.10000.2.in',\n",
        "    '/content/num.10000.3.in',\n",
        "    '/content/num.10000.4.in',\n",
        "    '/content/num.100000.1.in',\n",
        "    '/content/num.100000.2.in',\n",
        "    '/content/num.100000.3.in',\n",
        "    '/content/num.100000.4.in',\n",
        "]"
      ]
    },
    {
      "cell_type": "markdown",
      "metadata": {
        "id": "VeQ2vt82RzmC"
      },
      "source": [
        "#### SelectionSort"
      ]
    },
    {
      "cell_type": "code",
      "execution_count": null,
      "metadata": {
        "id": "cuXLLysxW7T7"
      },
      "outputs": [],
      "source": [
        "def processar_arquivo_selection_sort(nome_arquivo):\n",
        "    lista = ler_numeros_arquivo(nome_arquivo)\n",
        "    lista_ordenada = selection_sort(lista)\n",
        "    return lista_ordenada"
      ]
    },
    {
      "cell_type": "code",
      "execution_count": null,
      "metadata": {
        "colab": {
          "base_uri": "https://localhost:8080/"
        },
        "id": "DQPECYs_WaFn",
        "outputId": "872fbdf9-b407-4a39-93d2-8337afb852d2"
      },
      "outputs": [
        {
          "name": "stderr",
          "output_type": "stream",
          "text": [
            "Ordenando: 100%|██████████| 1001/1001 [00:00<00:00, 1693.53it/s]\n",
            "Ordenando: 100%|██████████| 1001/1001 [00:00<00:00, 1536.69it/s]\n",
            "Ordenando: 100%|██████████| 1001/1001 [00:00<00:00, 1254.86it/s]\n",
            "Ordenando: 100%|██████████| 1001/1001 [00:00<00:00, 1264.92it/s]\n",
            "Ordenando: 100%|██████████| 10001/10001 [01:05<00:00, 153.81it/s]\n",
            "Ordenando: 100%|██████████| 10001/10001 [01:05<00:00, 153.02it/s]\n",
            "Ordenando: 100%|██████████| 10001/10001 [01:03<00:00, 156.47it/s]\n",
            "Ordenando: 100%|██████████| 10001/10001 [01:03<00:00, 157.06it/s]\n",
            "Ordenando: 100%|██████████| 100001/100001 [1:39:39<00:00, 16.73it/s] \n",
            "Ordenando: 100%|██████████| 100001/100001 [1:40:16<00:00, 16.62it/s] \n",
            "Ordenando: 100%|██████████| 100001/100001 [1:27:35<00:00, 19.03it/s] \n",
            "Ordenando: 100%|██████████| 100001/100001 [1:28:14<00:00, 18.89it/s] \n"
          ]
        },
        {
          "name": "stdout",
          "output_type": "stream",
          "text": [
            "lista_1_ordenada: [  -50   -50   -50 ... 99716 99877 99911]\n",
            "lista_2_ordenada: [    -50     -50     -50 ... 9979027 9979633 9987680]\n",
            "lista_3_ordenada: [      -50       -50       -50 ... 995697496 996233975 999347864]\n",
            "lista_4_ordenada: [         -50          -50          -50 ... 998923820319 999717083011\n",
            " 999969515482]\n",
            "lista_5_ordenada: [  -50   -50   -50 ... 99962 99969 99993]\n",
            "lista_6_ordenada: [    -50     -50     -50 ... 9998192 9999107 9999165]\n",
            "lista_7_ordenada: [      -50       -50       -50 ... 999650056 999739876 999760438]\n",
            "lista_8_ordenada: [         -50          -50          -50 ... 999787661095 999925897368\n",
            " 999951408520]\n",
            "lista_9_ordenada: [   -50    -50    -50 ...  99999  99999 100000]\n",
            "lista_10_ordenada: [    -50     -50     -50 ... 9999658 9999767 9999927]\n",
            "lista_11_ordenada: [      -50       -50       -50 ... 999962130 999976614 999990080]\n",
            "lista_12_ordenada: [         -50          -50          -50 ... 999995287726 999997893963\n",
            " 999998895633]\n",
            "Tempo de execução: 11404.876375436783 segundos\n"
          ]
        }
      ],
      "source": [
        "# Obter o tempo de início\n",
        "start_time = time.time()\n",
        "\n",
        "pool = multiprocessing.Pool()\n",
        "listas_ordenadas = pool.map(processar_arquivo_selection_sort, arquivos)\n",
        "pool.close()\n",
        "pool.join()\n",
        "\n",
        "# Obter o tempo de término\n",
        "end_time = time.time()\n",
        "\n",
        "# Calcular o tempo de execução em segundos\n",
        "execution_time = end_time - start_time\n",
        "\n",
        "# Imprimir as listas ordenadas\n",
        "for i, lista_ordenada in enumerate(listas_ordenadas):\n",
        "    print(f\"lista_{i+1}_ordenada:\", lista_ordenada)\n",
        "\n",
        "# Imprimir o tempo de execução\n",
        "print(\"Tempo de execução:\", execution_time, \"segundos\")"
      ]
    },
    {
      "cell_type": "markdown",
      "metadata": {
        "id": "4ocKzGYzSxhm"
      },
      "source": [
        "### BubbleSort"
      ]
    },
    {
      "cell_type": "code",
      "execution_count": 3,
      "metadata": {
        "id": "pTAvKwyoX1c2"
      },
      "outputs": [],
      "source": [
        "def processar_arquivo_bubble_sort(nome_arquivo):\n",
        "    lista = ler_numeros_arquivo(nome_arquivo)\n",
        "    lista_ordenada = bubble_sort(lista)\n",
        "    return lista_ordenada"
      ]
    },
    {
      "cell_type": "code",
      "execution_count": 7,
      "metadata": {
        "colab": {
          "base_uri": "https://localhost:8080/"
        },
        "id": "_5wxVBZTYvQ7",
        "outputId": "684bffe9-5a54-4d8f-f98a-278f7b91830f"
      },
      "outputs": [
        {
          "output_type": "stream",
          "name": "stderr",
          "text": [
            "Ordenando: 100%|██████████| 1000/1000 [00:00<00:00, 1499.13it/s]\n",
            "Ordenando: 100%|██████████| 1000/1000 [00:00<00:00, 1274.00it/s]\n",
            "Ordenando: 100%|██████████| 1000/1000 [00:00<00:00, 2048.48it/s]\n",
            "Ordenando: 100%|██████████| 1000/1000 [00:00<00:00, 1965.46it/s]\n",
            "Ordenando: 100%|██████████| 10000/10000 [00:58<00:00, 172.38it/s]\n",
            "Ordenando: 100%|██████████| 10000/10000 [00:58<00:00, 170.58it/s]\n",
            "Ordenando: 100%|██████████| 10000/10000 [01:01<00:00, 163.78it/s]\n",
            "Ordenando: 100%|██████████| 10000/10000 [01:01<00:00, 162.96it/s]\n",
            "Ordenando: 100%|██████████| 100000/100000 [1:37:14<00:00, 17.14it/s] \n",
            "Ordenando: 100%|██████████| 100000/100000 [1:37:17<00:00, 17.13it/s] \n",
            "Ordenando: 100%|██████████| 100000/100000 [1:35:13<00:00, 17.50it/s] \n",
            "Ordenando: 100%|██████████| 100000/100000 [1:35:12<00:00, 17.50it/s] \n"
          ]
        },
        {
          "output_type": "stream",
          "name": "stdout",
          "text": [
            "lista_1_ordenada: [  -50   -50   -50 ... 99716 99877 99911]\n",
            "lista_2_ordenada: [    -50     -50     -50 ... 9979027 9979633 9987680]\n",
            "lista_3_ordenada: [      -50       -50       -50 ... 995697496 996233975 999347864]\n",
            "lista_4_ordenada: [         -50          -50          -50 ... 998923820319 999717083011\n",
            " 999969515482]\n",
            "lista_5_ordenada: [  -50   -50   -50 ... 99962 99969 99993]\n",
            "lista_6_ordenada: [    -50     -50     -50 ... 9998192 9999107 9999165]\n",
            "lista_7_ordenada: [      -50       -50       -50 ... 999650056 999739876 999760438]\n",
            "lista_8_ordenada: [         -50          -50          -50 ... 999787661095 999925897368\n",
            " 999951408520]\n",
            "lista_9_ordenada: [   -50    -50    -50 ...  99999  99999 100000]\n",
            "lista_10_ordenada: [    -50     -50     -50 ... 9999658 9999767 9999927]\n",
            "lista_11_ordenada: [      -50       -50       -50 ... 999962130 999976614 999990080]\n",
            "lista_12_ordenada: [         -50          -50          -50 ... 999995287726 999997893963\n",
            " 999998895633]\n",
            "Tempo de execução: 11671.889018535614 segundos\n"
          ]
        }
      ],
      "source": [
        "# Obter o tempo de início\n",
        "start_time = time.time()\n",
        "\n",
        "pool = multiprocessing.Pool()\n",
        "listas_ordenadas = pool.map(processar_arquivo_bubble_sort, arquivos)\n",
        "pool.close()\n",
        "pool.join()\n",
        "\n",
        "# Obter o tempo de término\n",
        "end_time = time.time()\n",
        "\n",
        "# Calcular o tempo de execução em segundos\n",
        "execution_time = end_time - start_time\n",
        "\n",
        "# Imprimir as listas ordenadas\n",
        "for i, lista_ordenada in enumerate(listas_ordenadas):\n",
        "    print(f\"lista_{i+1}_ordenada:\", lista_ordenada)\n",
        "\n",
        "# Imprimir o tempo de execução\n",
        "print(\"Tempo de execução:\", execution_time, \"segundos\")"
      ]
    },
    {
      "cell_type": "markdown",
      "metadata": {
        "id": "ooTuAAOZX7u9"
      },
      "source": [
        "### InsertionSort"
      ]
    },
    {
      "cell_type": "code",
      "execution_count": null,
      "metadata": {
        "id": "weMV_dAKX_g8"
      },
      "outputs": [],
      "source": [
        "def processar_arquivo_insertion_sort(nome_arquivo):\n",
        "    lista = ler_numeros_arquivo(nome_arquivo)\n",
        "    lista_ordenada = insertion_sort(lista)\n",
        "    return lista_ordenada"
      ]
    },
    {
      "cell_type": "code",
      "execution_count": null,
      "metadata": {
        "colab": {
          "base_uri": "https://localhost:8080/"
        },
        "id": "f7fKooJKYu7O",
        "outputId": "50903302-0154-4747-be0a-a9843538a3b9"
      },
      "outputs": [
        {
          "name": "stderr",
          "output_type": "stream",
          "text": [
            "Ordenando: 100%|██████████| 1000/1000 [00:00<00:00, 8112.74it/s]\n",
            "Ordenando: 100%|██████████| 1000/1000 [00:00<00:00, 7747.89it/s]\n",
            "Ordenando: 100%|██████████| 1000/1000 [00:00<00:00, 8340.86it/s]\n",
            "Ordenando: 100%|██████████| 1000/1000 [00:00<00:00, 8061.97it/s]\n",
            "Ordenando: 100%|██████████| 10000/10000 [00:12<00:00, 779.13it/s]\n",
            "Ordenando: 100%|██████████| 10000/10000 [00:12<00:00, 770.21it/s]\n",
            "Ordenando: 100%|██████████| 10000/10000 [00:12<00:00, 778.41it/s]\n",
            "Ordenando: 100%|██████████| 10000/10000 [00:13<00:00, 762.84it/s]\n",
            "Ordenando: 100%|██████████| 100000/100000 [21:31<00:00, 77.45it/s]\n",
            "Ordenando: 100%|██████████| 100000/100000 [21:37<00:00, 77.08it/s]\n",
            "Ordenando: 100%|██████████| 100000/100000 [21:36<00:00, 77.12it/s]\n",
            "Ordenando: 100%|██████████| 100000/100000 [21:35<00:00, 77.18it/s]\n"
          ]
        },
        {
          "name": "stdout",
          "output_type": "stream",
          "text": [
            "lista_1_ordenada: [  -50   -50   -50 ... 99716 99877 99911]\n",
            "lista_2_ordenada: [    -50     -50     -50 ... 9979027 9979633 9987680]\n",
            "lista_3_ordenada: [      -50       -50       -50 ... 995697496 996233975 999347864]\n",
            "lista_4_ordenada: [         -50          -50          -50 ... 998923820319 999717083011\n",
            " 999969515482]\n",
            "lista_5_ordenada: [  -50   -50   -50 ... 99962 99969 99993]\n",
            "lista_6_ordenada: [    -50     -50     -50 ... 9998192 9999107 9999165]\n",
            "lista_7_ordenada: [      -50       -50       -50 ... 999650056 999739876 999760438]\n",
            "lista_8_ordenada: [         -50          -50          -50 ... 999787661095 999925897368\n",
            " 999951408520]\n",
            "lista_9_ordenada: [   -50    -50    -50 ...  99999  99999 100000]\n",
            "lista_10_ordenada: [    -50     -50     -50 ... 9999658 9999767 9999927]\n",
            "lista_11_ordenada: [      -50       -50       -50 ... 999962130 999976614 999990080]\n",
            "lista_12_ordenada: [         -50          -50          -50 ... 999995287726 999997893963\n",
            " 999998895633]\n",
            "Tempo de execução: 2619.5799078941345 segundos\n"
          ]
        }
      ],
      "source": [
        "# Obter o tempo de início\n",
        "start_time = time.time()\n",
        "\n",
        "pool = multiprocessing.Pool()\n",
        "listas_ordenadas = pool.map(processar_arquivo_insertion_sort, arquivos)\n",
        "pool.close()\n",
        "pool.join()\n",
        "\n",
        "# Obter o tempo de término\n",
        "end_time = time.time()\n",
        "\n",
        "# Calcular o tempo de execução em segundos\n",
        "execution_time = end_time - start_time\n",
        "\n",
        "# Imprimir as listas ordenadas\n",
        "for i, lista_ordenada in enumerate(listas_ordenadas):\n",
        "    print(f\"lista_{i+1}_ordenada:\", lista_ordenada)\n",
        "\n",
        "# Imprimir o tempo de execução\n",
        "print(\"Tempo de execução:\", execution_time, \"segundos\")"
      ]
    },
    {
      "cell_type": "markdown",
      "metadata": {
        "id": "I5OF5GHoYHdJ"
      },
      "source": [
        "### MergeSort"
      ]
    },
    {
      "cell_type": "code",
      "execution_count": null,
      "metadata": {
        "id": "lP7WhKWkYVWp"
      },
      "outputs": [],
      "source": [
        "def processar_arquivo_merge_sort(nome_arquivo):\n",
        "    lista = ler_numeros_arquivo(nome_arquivo)\n",
        "    lista_ordenada = merge_sort(lista)\n",
        "    return lista_ordenada"
      ]
    },
    {
      "cell_type": "code",
      "execution_count": null,
      "metadata": {
        "colab": {
          "base_uri": "https://localhost:8080/"
        },
        "id": "GxZ6IdD3Yuf3",
        "outputId": "a770f990-1ec6-40c2-e3a1-6f64222af78a"
      },
      "outputs": [
        {
          "name": "stdout",
          "output_type": "stream",
          "text": [
            "lista_1_ordenada: [  -50   -50   -50 ... 99716 99877 99911]\n",
            "lista_2_ordenada: [    -50     -50     -50 ... 9979027 9979633 9987680]\n",
            "lista_3_ordenada: [      -50       -50       -50 ... 995697496 996233975 999347864]\n",
            "lista_4_ordenada: [         -50          -50          -50 ... 998923820319 999717083011\n",
            " 999969515482]\n",
            "lista_5_ordenada: [  -50   -50   -50 ... 99962 99969 99993]\n",
            "lista_6_ordenada: [    -50     -50     -50 ... 9998192 9999107 9999165]\n",
            "lista_7_ordenada: [      -50       -50       -50 ... 999650056 999739876 999760438]\n",
            "lista_8_ordenada: [         -50          -50          -50 ... 999787661095 999925897368\n",
            " 999951408520]\n",
            "lista_9_ordenada: [   -50    -50    -50 ...  99999  99999 100000]\n",
            "lista_10_ordenada: [    -50     -50     -50 ... 9999658 9999767 9999927]\n",
            "lista_11_ordenada: [      -50       -50       -50 ... 999962130 999976614 999990080]\n",
            "lista_12_ordenada: [         -50          -50          -50 ... 999995287726 999997893963\n",
            " 999998895633]\n",
            "Tempo de execução: 38.106507778167725 segundos\n"
          ]
        }
      ],
      "source": [
        "# Obter o tempo de início\n",
        "start_time = time.time()\n",
        "\n",
        "pool = multiprocessing.Pool()\n",
        "listas_ordenadas = pool.map(processar_arquivo_merge_sort, arquivos)\n",
        "pool.close()\n",
        "pool.join()\n",
        "\n",
        "# Obter o tempo de término\n",
        "end_time = time.time()\n",
        "\n",
        "# Calcular o tempo de execução em segundos\n",
        "execution_time = end_time - start_time\n",
        "\n",
        "# Imprimir as listas ordenadas\n",
        "for i, lista_ordenada in enumerate(listas_ordenadas):\n",
        "    print(f\"lista_{i+1}_ordenada:\", lista_ordenada)\n",
        "\n",
        "# Imprimir o tempo de execução\n",
        "print(\"Tempo de execução:\", execution_time, \"segundos\")"
      ]
    },
    {
      "cell_type": "markdown",
      "metadata": {
        "id": "Dj95m3rRYidC"
      },
      "source": [
        "### QuickSort"
      ]
    },
    {
      "cell_type": "code",
      "execution_count": null,
      "metadata": {
        "id": "M9kxS2gMYpf_"
      },
      "outputs": [],
      "source": [
        "def processar_arquivo_quick_sort(nome_arquivo):\n",
        "    lista = ler_numeros_arquivo(nome_arquivo)\n",
        "    lista_ordenada = quick_sort(lista)\n",
        "    return lista_ordenada"
      ]
    },
    {
      "cell_type": "code",
      "execution_count": null,
      "metadata": {
        "colab": {
          "base_uri": "https://localhost:8080/"
        },
        "id": "t6R8dlUTYmU5",
        "outputId": "6dd53bef-df6f-41af-902c-5408684f2de2"
      },
      "outputs": [
        {
          "name": "stdout",
          "output_type": "stream",
          "text": [
            "lista_1_ordenada: [  -50   -50   -50 ... 99716 99877 99911]\n",
            "lista_2_ordenada: [    -50     -50     -50 ... 9979027 9979633 9987680]\n",
            "lista_3_ordenada: [      -50       -50       -50 ... 995697496 996233975 999347864]\n",
            "lista_4_ordenada: [         -50          -50          -50 ... 998923820319 999717083011\n",
            " 999969515482]\n",
            "lista_5_ordenada: [  -50   -50   -50 ... 99962 99969 99993]\n",
            "lista_6_ordenada: [    -50     -50     -50 ... 9998192 9999107 9999165]\n",
            "lista_7_ordenada: [      -50       -50       -50 ... 999650056 999739876 999760438]\n",
            "lista_8_ordenada: [         -50          -50          -50 ... 999787661095 999925897368\n",
            " 999951408520]\n",
            "lista_9_ordenada: [   -50    -50    -50 ...  99999  99999 100000]\n",
            "lista_10_ordenada: [    -50     -50     -50 ... 9999658 9999767 9999927]\n",
            "lista_11_ordenada: [      -50       -50       -50 ... 999962130 999976614 999990080]\n",
            "lista_12_ordenada: [         -50          -50          -50 ... 999995287726 999997893963\n",
            " 999998895633]\n",
            "Tempo de execução: 2.0946149826049805 segundos\n"
          ]
        }
      ],
      "source": [
        "# Obter o tempo de início\n",
        "start_time = time.time()\n",
        "\n",
        "pool = multiprocessing.Pool()\n",
        "listas_ordenadas = pool.map(processar_arquivo_quick_sort, arquivos)\n",
        "pool.close()\n",
        "pool.join()\n",
        "\n",
        "# Obter o tempo de término\n",
        "end_time = time.time()\n",
        "\n",
        "# Calcular o tempo de execução em segundos\n",
        "execution_time = end_time - start_time\n",
        "\n",
        "# Imprimir as listas ordenadas\n",
        "for i, lista_ordenada in enumerate(listas_ordenadas):\n",
        "    print(f\"lista_{i+1}_ordenada:\", lista_ordenada)\n",
        "\n",
        "# Imprimir o tempo de execução\n",
        "print(\"Tempo de execução:\", execution_time, \"segundos\")"
      ]
    }
  ],
  "metadata": {
    "accelerator": "TPU",
    "colab": {
      "provenance": []
    },
    "kernelspec": {
      "display_name": "Python 3",
      "name": "python3"
    },
    "language_info": {
      "name": "python"
    }
  },
  "nbformat": 4,
  "nbformat_minor": 0
}